{
  "nbformat": 4,
  "nbformat_minor": 0,
  "metadata": {
    "colab": {
      "name": "Untitled0.ipynb",
      "provenance": [],
      "collapsed_sections": []
    },
    "kernelspec": {
      "name": "python3",
      "display_name": "Python 3"
    },
    "language_info": {
      "name": "python"
    }
  },
  "cells": [
    {
      "cell_type": "code",
      "execution_count": 5,
      "metadata": {
        "id": "f5zKhOJWwL-D"
      },
      "outputs": [],
      "source": [
        "import numpy as np\n",
        "import random\n",
        "import matplotlib \n",
        "import projet"
      ]
    },
    {
      "cell_type": "markdown",
      "source": [
        "Partie 1:"
      ],
      "metadata": {
        "id": "8dhe9PXkwNeX"
      }
    },
    {
      "cell_type": "code",
      "source": [
        "p=projet.estim_prob()\n",
        "print(p)"
      ],
      "metadata": {
        "colab": {
          "base_uri": "https://localhost:8080/"
        },
        "id": "j2rN53Dpz51w",
        "outputId": "6c8a1536-f038-40fd-c6bc-034bd07fec23"
      },
      "execution_count": 6,
      "outputs": [
        {
          "output_type": "stream",
          "name": "stdout",
          "text": [
            "[[0.66666667 0.33333333 0.        ]\n",
            " [0.         0.83333333 0.16666667]\n",
            " [0.         0.         1.        ]]\n"
          ]
        }
      ]
    },
    {
      "cell_type": "code",
      "source": [
        "fichier=np.loadtxt('data_exo1.txt')\n",
        "n=projet.proba_transition(fichier)\n",
        "print(n)"
      ],
      "metadata": {
        "colab": {
          "base_uri": "https://localhost:8080/"
        },
        "id": "XBUFc7c90bWC",
        "outputId": "d6a710d1-f334-4368-b1bc-7d5dff0e6281"
      },
      "execution_count": 8,
      "outputs": [
        {
          "output_type": "stream",
          "name": "stdout",
          "text": [
            "[[0.92435703 0.07564297 0.        ]\n",
            " [0.         0.93527508 0.06472492]\n",
            " [0.         0.         1.        ]]\n"
          ]
        }
      ]
    },
    {
      "cell_type": "markdown",
      "source": [
        "Partie 2:"
      ],
      "metadata": {
        "id": "f7I3OTKv43cn"
      }
    },
    {
      "cell_type": "code",
      "source": [
        "matrice=np.array([[0.92,0.08,0],[0,0.93,0.07],[0,0,1]])\n",
        "print(matrice)\n",
        "if projet.verif_stoch(matrice):\n",
        "  print(\"La matrice est stochastique\")\n",
        "else:\n",
        "  print(\"La matrice n'est pas stochastique\")"
      ],
      "metadata": {
        "colab": {
          "base_uri": "https://localhost:8080/"
        },
        "id": "9lZc9-1o47H1",
        "outputId": "a71199ab-b032-48bf-e732-12a49390875e"
      },
      "execution_count": 9,
      "outputs": [
        {
          "output_type": "stream",
          "name": "stdout",
          "text": [
            "[[0.92 0.08 0.  ]\n",
            " [0.   0.93 0.07]\n",
            " [0.   0.   1.  ]]\n",
            "La matrice est stochastique\n"
          ]
        }
      ]
    },
    {
      "cell_type": "code",
      "source": [
        ""
      ],
      "metadata": {
        "id": "FFxX2GJM5d9B"
      },
      "execution_count": null,
      "outputs": []
    }
  ]
}